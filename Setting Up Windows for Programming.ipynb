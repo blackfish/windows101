{
 "cells": [
  {
   "cell_type": "markdown",
   "metadata": {},
   "source": [
    "# Setting Up Windows for Progamming\n",
    "### by Orko Sarkar\n",
    "\n",
    "This guide is written to help you figure out how to set up your Windows 10 machine for programming. \n",
    "\n",
    "Prerequisites:\n",
    "* you have Windows 10 **64 bit**\n",
    "* you have **updated** your Windows install. The method to get set up on pre Anniversary Update machines is slightly different, and will not be covered in this guide."
   ]
  },
  {
   "cell_type": "markdown",
   "metadata": {},
   "source": [
    "## Why is Windows programming so different from programming on OSX or Linux?\n",
    "\n",
    "There are two main families of operating systems - Unix, and Windows NT. Almost all OS's that you come across in daily scenarios can be traced back to one of these two. Linux and OSX are \"Unix-based\", whereas modern Windows (as its name would suggest) is based on Windows NT. But why does this matter?\n",
    "\n",
    "There are many complicated, highly subjective answers as to why this matters and which is better from programming. I won't get into that debate. However, what can be stated as fact is that Unix was developed by the folks at Bell Labs in the 1970's - these people developed Unix as a platform *for programmers*, and created many foundational tools for programmers who used it. As a result, tons of programming tools have been developed on Unix to run on Unix-based systems, and it can take significant extra work on the developers' sides to make them work on Windows. As a result, **many programming tools either don't work on Windows at all, or are provided to Windows users with the disclaimer that if they *don't* work, it's not the developer's problem and the user will be on their own figuring out what's wrong.**\n",
    "\n",
    "### The good news:\n",
    "\n",
    "**Microsoft has released the Windows Subsystem for Linux.** The technical details aren't all that important, but what this means is that you can install a Linux userland on top of the Windows kernel. Basically, you can run Linux on your Windows install - which **lets you run all those Linux command line tools which don't normally work on Windows natively**. This is different from a dual boot or a virtual machine - you won't have the Linux kernel, and its much more efficient with your resources. \n",
    "\n",
    "Once you've installed \"Bash on Ubuntu on Windows\", you'll have a \"Bash shell\" that lets you interact with the Windows Subsystem for Linux. Bash is to Linux as Command Prompt or Powershell are to Windows (the conventions and commands are a bit different, though).\n",
    "\n"
   ]
  },
  {
   "cell_type": "markdown",
   "metadata": {},
   "source": [
    "## Step 1: Enable the Windows Subsystem for Linux:\n",
    "\n",
    "Open an elevated PowerShell (open PowerShell as Administrator) and run the following:\n",
    "\n",
    "    Enable-WindowsOptionalFeature -Online -FeatureName Microsoft-Windows-Subsystem-Linux \n",
    "    \n",
    "Let it run, and restart your computer when it tells you to."
   ]
  },
  {
   "cell_type": "markdown",
   "metadata": {},
   "source": [
    "## Step 2: Install Ubuntu\n",
    "\n",
    "While there are other distributions of Linux available to install, we're going to install Ubuntu as it is one of the most common and straightforward Linux distributions to use.\n",
    "\n",
    "Open the Microsoft Store and search for \"Ubuntu\". Click \"Get\" and let it download. Once it has completed, click \"Launch\".\n",
    "\n",
    "This should open a console window. Wait for the installation to complete, and then choose a username and password. Your username can be whatever you want - I would suggest one without spaces - my standard one is firstinitiallastname. When you type in your password, you won't see any characters appear on the screen - this is normal, and is done to protect your privacy.\n",
    "\n",
    "You're done! You can open Bash by hitting the Windows key on your keyboard, typing \"bash\" and hitting enter after highlighting the appropriate option with your arrow keys."
   ]
  },
  {
   "cell_type": "markdown",
   "metadata": {},
   "source": [
    "## Some additional setup and notes for your convenience\n",
    "\n",
    "\n",
    "### How to make Bash open to a folder of your choice\n",
    "Pick a directory that you want your shell to open to. For example, I chose \"C:\\Users\\osarkar\\Documents\", my Documents folder.\n",
    "\n",
    "Run the following two commands (replacing your_username with your Windows username, or c/Users/your_username/Documents with the path to whatever directory you want to use if not your Documents folder) to setup your bash to open to that directory by default.\n",
    "\n",
    "    echo \"alias cdod=\\\"cd /mnt/c/Users/your_username/Documents\\\"\" >> ~/.bashrc\n",
    "    \n",
    "    echo \"cdod\" >> ~/.bashrc\n",
    "\n",
    "**UNDER NO CIRCUMSTANCE SHOULD YOU CHANGE YOUR \"HOME DIRECTORY\" UNLESS YOU UNDERSTAND WHAT YOU ARE DOING. IT CAN AND LIKELY WILL BREAK THINGS**\n",
    "\n",
    "### Install packages to your copy of Ubuntu\n",
    "Use standard package managaers like apt-get or pip. On the Windows Subsystem, none of these will work without the keyword \"sudo\". That is, instead of using\n",
    "\n",
    "    apt-get install git-all\n",
    "    \n",
    "use \n",
    "    \n",
    "    sudo apt-get install git-all\n",
    "    \n",
    "**sudo is a powerful keyword/command - using it is akin to running a program in Windows as administrator, and you should be careful when using it**\n",
    "\n",
    "### If you have spaces in the names of your directories, get rid of them\n",
    "\n",
    "When working with those directories manually, you can escape the spaces with a \"\\\", and all will seem well. However, when you run tools (a common one is virtualenv) in a folder with spaces, the tool may not know to escape the spaces and things will fail. Avoid this by naming directories with CamelCase or underscores.\n",
    "\n",
    "If your Windows username has spaces in it and you don't want to go through the effort of changing it/creating a new Windows user, you'll have to create a new directory directly in your /mnt/c/ directory and work with that. It will be visible to your Windows Explorer, but I think its worth the trouble to create a username without spaces - it'll allow you to access and run code inside folders in your OneDrive or DropBox, among others.\n",
    "\n",
    "### How do I get rid of the annoying bell????\n",
    "run this:\n",
    "\n",
    "    echo \"set bell-style none\" >> ~/.bashrc\n",
    "    \n",
    "you're welcome.\n",
    "\n",
    "### General troubleshooting\n",
    "For stuff not covered above, **search the error messages that Ubuntu gives you**. Because so many developers are working in Unix enviro "
   ]
  }
 ],
 "metadata": {
  "kernelspec": {
   "display_name": "Python 3",
   "language": "python",
   "name": "python3"
  },
  "language_info": {
   "codemirror_mode": {
    "name": "ipython",
    "version": 3
   },
   "file_extension": ".py",
   "mimetype": "text/x-python",
   "name": "python",
   "nbconvert_exporter": "python",
   "pygments_lexer": "ipython3",
   "version": "3.6.0"
  }
 },
 "nbformat": 4,
 "nbformat_minor": 2
}
